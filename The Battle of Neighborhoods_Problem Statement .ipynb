{
 "cells": [
  {
   "cell_type": "markdown",
   "metadata": {},
   "source": [
    "# Introduction to Data Science Capstone Project:\n",
    "\n"
   ]
  },
  {
   "cell_type": "markdown",
   "metadata": {},
   "source": [
    "# Business Problem:"
   ]
  },
  {
   "cell_type": "markdown",
   "metadata": {},
   "source": [
    "A customer wants to compare the neighborhoods of Hyderabad, Bangalore and Mumbai that would be best suitable for buying home and his new business. To do such we need to compare the areas using the Data Analytics and Machine learning algorithm which will help the customer to take decision on settling down/buying house/starting his own business."
   ]
  },
  {
   "cell_type": "markdown",
   "metadata": {},
   "source": [
    "# Data:"
   ]
  },
  {
   "cell_type": "markdown",
   "metadata": {},
   "source": [
    "•\tFollowing data sources would be needed to generate the required information:\n",
    "\n",
    "•\tData will be scrapped for the locations using below URLs:\n",
    "1.\thttps://www.mapsofindia.com/pincode/india/telangana/hyderabad/\n",
    "2.\thttps://www.mapsofindia.com/pincode/india/karnataka/bangalore/\n",
    "3.\thttps://www.mapsofindia.com/pincode/india/maharashtra/mumbai/\n",
    "\n",
    "•\tAll venues or neighborhood areas through Foursquare API\n",
    "\n",
    "•\tGeocoder (google maps) to get coordinates of neighborhoods\n",
    "\n",
    "\n",
    "We will use explore function to get the most common venue categories in each neighborhood of Hyderabad, Bangalore and Mumbai. We will also cluster neighborhoods to give similarity information to end user.\n"
   ]
  },
  {
   "cell_type": "markdown",
   "metadata": {},
   "source": []
  }
 ],
 "metadata": {
  "kernelspec": {
   "display_name": "Python 3",
   "language": "python",
   "name": "python3"
  },
  "language_info": {
   "codemirror_mode": {
    "name": "ipython",
    "version": 3
   },
   "file_extension": ".py",
   "mimetype": "text/x-python",
   "name": "python",
   "nbconvert_exporter": "python",
   "pygments_lexer": "ipython3",
   "version": "3.7.3"
  }
 },
 "nbformat": 4,
 "nbformat_minor": 2
}
