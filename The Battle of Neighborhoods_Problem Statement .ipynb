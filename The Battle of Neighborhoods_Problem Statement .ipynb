{
 "cells": [
  {
   "cell_type": "markdown",
   "metadata": {},
   "source": [
    "# Introduction to Data Science Capstone Project:\n",
    "\n"
   ]
  },
  {
   "cell_type": "markdown",
   "metadata": {},
   "source": [
    "# Business Problem:"
   ]
  },
  {
   "cell_type": "markdown",
   "metadata": {},
   "source": [
    "A customer wants to compare the neighborhoods of Hyderabad and Bangalore. So that would provide some insights of locations that are suitable for buying home and starting his new food cart business. To do such we need to compare the areas using the Data Analytics and Machine learning algorithm(K-means) which will help the customer to take decision on settling down/buying house/starting his own business."
   ]
  },
  {
   "cell_type": "markdown",
   "metadata": {},
   "source": [
    "# Data:"
   ]
  },
  {
   "cell_type": "markdown",
   "metadata": {},
   "source": [
    "•\tFollowing data sources would be needed to generate the required information:\n",
    "\n",
    "•\tData will be scrapped for the locations using below URLs:\n",
    "1.\thttps://www.mapsofindia.com/pincode/india/telangana/hyderabad/\n",
    "2.\thttps://www.mapsofindia.com/pincode/india/karnataka/bangalore/\n",
    "\n",
    "•\tAll venues or neighborhood areas through Foursquare API\n",
    "\n",
    "•\tGeocoder (google maps) to get coordinates of neighborhoods\n",
    "\n",
    "\n",
    "We will use explore function to get the most common venue categories in each neighborhood of Hyderabad vs Bangalore. We will also cluster neighborhoods to give similarity information to end user.\n"
   ]
  },
  {
   "cell_type": "markdown",
   "metadata": {},
   "source": [
    "For Data setup/Data Analysis you can refer the (https://github.com/srkchintapalli/The-Battle-of-Neighborhoods/blob/master/The%20Battle%20of%20Neighborhood%20Data_setup.ipynb) we are going to use only Hyderabad and Banagalore Data for this project"
   ]
  },
  {
   "cell_type": "code",
   "execution_count": null,
   "metadata": {},
   "outputs": [],
   "source": []
  }
 ],
 "metadata": {
  "kernelspec": {
   "display_name": "Python 3",
   "language": "python",
   "name": "python3"
  },
  "language_info": {
   "codemirror_mode": {
    "name": "ipython",
    "version": 3
   },
   "file_extension": ".py",
   "mimetype": "text/x-python",
   "name": "python",
   "nbconvert_exporter": "python",
   "pygments_lexer": "ipython3",
   "version": "3.7.3"
  }
 },
 "nbformat": 4,
 "nbformat_minor": 2
}
